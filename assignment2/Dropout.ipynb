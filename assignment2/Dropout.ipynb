{
 "cells": [
  {
   "cell_type": "markdown",
   "metadata": {},
   "source": [
    "# Dropout\n",
    "Dropout [1] is a technique for regularizing neural networks by randomly setting some features to zero during the forward pass. In this exercise you will implement a dropout layer and modify your fully-connected network to optionally use dropout.\n",
    "\n",
    "[1] [Geoffrey E. Hinton et al, \"Improving neural networks by preventing co-adaptation of feature detectors\", arXiv 2012](https://arxiv.org/abs/1207.0580)"
   ]
  },
  {
   "cell_type": "code",
   "execution_count": 1,
   "metadata": {},
   "outputs": [
    {
     "name": "stdout",
     "output_type": "stream",
     "text": [
      "run the following from the cs231n directory and try again:\n",
      "python setup.py build_ext --inplace\n",
      "You may also need to restart your iPython kernel\n"
     ]
    }
   ],
   "source": [
    "# As usual, a bit of setup\n",
    "from __future__ import print_function\n",
    "import time\n",
    "import numpy as np\n",
    "import matplotlib.pyplot as plt\n",
    "from cs231n.classifiers.fc_net import *\n",
    "from cs231n.data_utils import get_CIFAR10_data\n",
    "from cs231n.gradient_check import eval_numerical_gradient, eval_numerical_gradient_array\n",
    "from cs231n.solver import Solver\n",
    "\n",
    "%matplotlib inline\n",
    "plt.rcParams['figure.figsize'] = (10.0, 8.0) # set default size of plots\n",
    "plt.rcParams['image.interpolation'] = 'nearest'\n",
    "plt.rcParams['image.cmap'] = 'gray'\n",
    "\n",
    "# for auto-reloading external modules\n",
    "# see http://stackoverflow.com/questions/1907993/autoreload-of-modules-in-ipython\n",
    "%load_ext autoreload\n",
    "%autoreload 2\n",
    "\n",
    "def rel_error(x, y):\n",
    "  \"\"\" returns relative error \"\"\"\n",
    "  return np.max(np.abs(x - y) / (np.maximum(1e-8, np.abs(x) + np.abs(y))))"
   ]
  },
  {
   "cell_type": "code",
   "execution_count": 2,
   "metadata": {},
   "outputs": [
    {
     "name": "stdout",
     "output_type": "stream",
     "text": [
      "X_train:  (49000, 3, 32, 32)\n",
      "y_train:  (49000,)\n",
      "X_val:  (1000, 3, 32, 32)\n",
      "y_val:  (1000,)\n",
      "X_test:  (1000, 3, 32, 32)\n",
      "y_test:  (1000,)\n"
     ]
    }
   ],
   "source": [
    "# Load the (preprocessed) CIFAR10 data.\n",
    "\n",
    "data = get_CIFAR10_data()\n",
    "for k, v in data.items():\n",
    "  print('%s: ' % k, v.shape)"
   ]
  },
  {
   "cell_type": "markdown",
   "metadata": {},
   "source": [
    "# Dropout forward pass\n",
    "In the file `cs231n/layers.py`, implement the forward pass for dropout. Since dropout behaves differently during training and testing, make sure to implement the operation for both modes.\n",
    "\n",
    "Once you have done so, run the cell below to test your implementation."
   ]
  },
  {
   "cell_type": "code",
   "execution_count": 24,
   "metadata": {},
   "outputs": [
    {
     "name": "stdout",
     "output_type": "stream",
     "text": [
      "Running tests with p =  0.25\n",
      "Mean of input:  10.000207878477502\n",
      "Mean of train-time output:  10.000207878477502\n",
      "Mean of test-time output:  10.000207878477502\n",
      "Fraction of train-time output set to zero:  0.0\n",
      "Fraction of test-time output set to zero:  0.0\n",
      "\n",
      "Running tests with p =  0.4\n",
      "Mean of input:  10.000207878477502\n",
      "Mean of train-time output:  10.000207878477502\n",
      "Mean of test-time output:  10.000207878477502\n",
      "Fraction of train-time output set to zero:  0.0\n",
      "Fraction of test-time output set to zero:  0.0\n",
      "\n",
      "Running tests with p =  0.7\n",
      "Mean of input:  10.000207878477502\n",
      "Mean of train-time output:  10.000207878477502\n",
      "Mean of test-time output:  10.000207878477502\n",
      "Fraction of train-time output set to zero:  0.0\n",
      "Fraction of test-time output set to zero:  0.0\n",
      "\n"
     ]
    }
   ],
   "source": [
    "np.random.seed(231)\n",
    "x = np.random.randn(500, 500) + 10\n",
    "\n",
    "for p in [0.25, 0.4, 0.7]:\n",
    "  out, _ = dropout_forward(x, {'mode': 'train', 'p': p})\n",
    "  out_test, _ = dropout_forward(x, {'mode': 'test', 'p': p})\n",
    "\n",
    "  print('Running tests with p = ', p)\n",
    "  print('Mean of input: ', x.mean())\n",
    "  print('Mean of train-time output: ', out.mean())\n",
    "  print('Mean of test-time output: ', out_test.mean())\n",
    "  print('Fraction of train-time output set to zero: ', (out == 0).mean())\n",
    "  print('Fraction of test-time output set to zero: ', (out_test == 0).mean())\n",
    "  print()"
   ]
  },
  {
   "cell_type": "markdown",
   "metadata": {},
   "source": [
    "# Dropout backward pass\n",
    "In the file `cs231n/layers.py`, implement the backward pass for dropout. After doing so, run the following cell to numerically gradient-check your implementation."
   ]
  },
  {
   "cell_type": "code",
   "execution_count": 25,
   "metadata": {},
   "outputs": [
    {
     "name": "stdout",
     "output_type": "stream",
     "text": [
      "dx relative error:  1.892896957390533e-11\n"
     ]
    }
   ],
   "source": [
    "np.random.seed(231)\n",
    "x = np.random.randn(10, 10) + 10\n",
    "dout = np.random.randn(*x.shape)\n",
    "\n",
    "dropout_param = {'mode': 'train', 'p': 0.2, 'seed': 123}\n",
    "out, cache = dropout_forward(x, dropout_param)\n",
    "dx = dropout_backward(dout, cache)\n",
    "dx_num = eval_numerical_gradient_array(lambda xx: dropout_forward(xx, dropout_param)[0], x, dout)\n",
    "\n",
    "# Error should be around e-10 or less\n",
    "print('dx relative error: ', rel_error(dx, dx_num))"
   ]
  },
  {
   "cell_type": "markdown",
   "metadata": {},
   "source": [
    "## Inline Question 1:\n",
    "What happens if we do not divide the values being passed through inverse dropout by `p` in the dropout layer? Why does that happen?"
   ]
  },
  {
   "cell_type": "markdown",
   "metadata": {},
   "source": [
    "## Answer:\n",
    "The model will show overfitting during testing. Because during training, if we do not divide the values by p, to still use dropout, we will have to scale the activations by p during testing, if we don't scale the activations by p during testing, it means we are using all neurons (expect neurons * p) which will definitely cause overfitting. "
   ]
  },
  {
   "cell_type": "markdown",
   "metadata": {},
   "source": [
    "# Fully-connected nets with Dropout\n",
    "In the file `cs231n/classifiers/fc_net.py`, modify your implementation to use dropout. Specifically, if the constructor of the net receives a value that is not 1 for the `dropout` parameter, then the net should add dropout immediately after every ReLU nonlinearity. After doing so, run the following to numerically gradient-check your implementation."
   ]
  },
  {
   "cell_type": "code",
   "execution_count": 26,
   "metadata": {},
   "outputs": [
    {
     "name": "stdout",
     "output_type": "stream",
     "text": [
      "Running check with dropout =  1\n",
      "Initial loss:  2.3004790897684924\n",
      "W1 relative error: 1.48e-07\n",
      "W2 relative error: 2.21e-05\n",
      "W3 relative error: 3.53e-07\n",
      "b1 relative error: 5.38e-09\n",
      "b2 relative error: 2.09e-09\n",
      "b3 relative error: 5.80e-11\n",
      "\n",
      "Running check with dropout =  0.75\n",
      "Initial loss:  2.3016482157750753\n",
      "W1 relative error: 6.96e-07\n",
      "W2 relative error: 5.01e-06\n",
      "W3 relative error: 2.96e-07\n",
      "b1 relative error: 1.48e-08\n",
      "b2 relative error: 1.72e-09\n",
      "b3 relative error: 1.32e-10\n",
      "\n",
      "Running check with dropout =  0.5\n",
      "Initial loss:  2.30485979047391\n",
      "W1 relative error: 8.77e-07\n",
      "W2 relative error: 3.64e-07\n",
      "W3 relative error: 6.33e-08\n",
      "b1 relative error: 1.22e-07\n",
      "b2 relative error: 4.50e-09\n",
      "b3 relative error: 1.15e-10\n",
      "\n"
     ]
    }
   ],
   "source": [
    "np.random.seed(231)\n",
    "N, D, H1, H2, C = 2, 15, 20, 30, 10\n",
    "X = np.random.randn(N, D)\n",
    "y = np.random.randint(C, size=(N,))\n",
    "\n",
    "for dropout in [1, 0.75, 0.5]:\n",
    "  print('Running check with dropout = ', dropout)\n",
    "  model = FullyConnectedNet([H1, H2], input_dim=D, num_classes=C,\n",
    "                            weight_scale=5e-2, dtype=np.float64,\n",
    "                            dropout=dropout, seed=123)\n",
    "\n",
    "  loss, grads = model.loss(X, y)\n",
    "  print('Initial loss: ', loss)\n",
    "  \n",
    "  # Relative errors should be around e-6 or less; Note that it's fine\n",
    "  # if for dropout=1 you have W2 error be on the order of e-5.\n",
    "  for name in sorted(grads):\n",
    "    f = lambda _: model.loss(X, y)[0]\n",
    "    grad_num = eval_numerical_gradient(f, model.params[name], verbose=False, h=1e-5)\n",
    "    print('%s relative error: %.2e' % (name, rel_error(grad_num, grads[name])))\n",
    "  print()"
   ]
  },
  {
   "cell_type": "markdown",
   "metadata": {},
   "source": [
    "# Regularization experiment\n",
    "As an experiment, we will train a pair of two-layer networks on 500 training examples: one will use no dropout, and one will use a keep probability of 0.25. We will then visualize the training and validation accuracies of the two networks over time."
   ]
  },
  {
   "cell_type": "code",
   "execution_count": 39,
   "metadata": {
    "scrolled": false
   },
   "outputs": [
    {
     "name": "stdout",
     "output_type": "stream",
     "text": [
      "1\n",
      "(Iteration 1 / 125) loss: 7.856643\n",
      "(Epoch 0 / 25) train acc: 0.236000; val_acc: 0.190000\n",
      "(Epoch 1 / 25) train acc: 0.250000; val_acc: 0.178000\n",
      "(Epoch 2 / 25) train acc: 0.360000; val_acc: 0.217000\n",
      "(Epoch 3 / 25) train acc: 0.508000; val_acc: 0.242000\n",
      "(Epoch 4 / 25) train acc: 0.528000; val_acc: 0.244000\n",
      "(Epoch 5 / 25) train acc: 0.576000; val_acc: 0.288000\n",
      "(Epoch 6 / 25) train acc: 0.596000; val_acc: 0.263000\n",
      "(Epoch 7 / 25) train acc: 0.698000; val_acc: 0.245000\n",
      "(Epoch 8 / 25) train acc: 0.766000; val_acc: 0.285000\n",
      "(Epoch 9 / 25) train acc: 0.822000; val_acc: 0.304000\n",
      "(Epoch 10 / 25) train acc: 0.844000; val_acc: 0.294000\n",
      "(Epoch 11 / 25) train acc: 0.888000; val_acc: 0.301000\n",
      "(Epoch 12 / 25) train acc: 0.914000; val_acc: 0.291000\n",
      "(Epoch 13 / 25) train acc: 0.926000; val_acc: 0.309000\n",
      "(Epoch 14 / 25) train acc: 0.938000; val_acc: 0.314000\n",
      "(Epoch 15 / 25) train acc: 0.942000; val_acc: 0.301000\n",
      "(Epoch 16 / 25) train acc: 0.942000; val_acc: 0.291000\n",
      "(Epoch 17 / 25) train acc: 0.926000; val_acc: 0.289000\n",
      "(Epoch 18 / 25) train acc: 0.938000; val_acc: 0.305000\n",
      "(Epoch 19 / 25) train acc: 0.972000; val_acc: 0.301000\n",
      "(Epoch 20 / 25) train acc: 0.986000; val_acc: 0.283000\n",
      "(Iteration 101 / 125) loss: 0.000024\n",
      "(Epoch 21 / 25) train acc: 0.980000; val_acc: 0.308000\n",
      "(Epoch 22 / 25) train acc: 0.978000; val_acc: 0.306000\n",
      "(Epoch 23 / 25) train acc: 0.986000; val_acc: 0.309000\n",
      "(Epoch 24 / 25) train acc: 0.974000; val_acc: 0.302000\n",
      "(Epoch 25 / 25) train acc: 0.986000; val_acc: 0.302000\n",
      "0.95\n",
      "(Iteration 1 / 125) loss: 10.430469\n",
      "(Epoch 0 / 25) train acc: 0.238000; val_acc: 0.184000\n",
      "(Epoch 1 / 25) train acc: 0.268000; val_acc: 0.186000\n",
      "(Epoch 2 / 25) train acc: 0.356000; val_acc: 0.225000\n",
      "(Epoch 3 / 25) train acc: 0.378000; val_acc: 0.189000\n",
      "(Epoch 4 / 25) train acc: 0.458000; val_acc: 0.226000\n",
      "(Epoch 5 / 25) train acc: 0.570000; val_acc: 0.271000\n",
      "(Epoch 6 / 25) train acc: 0.598000; val_acc: 0.260000\n",
      "(Epoch 7 / 25) train acc: 0.714000; val_acc: 0.262000\n",
      "(Epoch 8 / 25) train acc: 0.760000; val_acc: 0.269000\n",
      "(Epoch 9 / 25) train acc: 0.828000; val_acc: 0.285000\n",
      "(Epoch 10 / 25) train acc: 0.832000; val_acc: 0.289000\n",
      "(Epoch 11 / 25) train acc: 0.856000; val_acc: 0.299000\n",
      "(Epoch 12 / 25) train acc: 0.846000; val_acc: 0.290000\n",
      "(Epoch 13 / 25) train acc: 0.880000; val_acc: 0.288000\n",
      "(Epoch 14 / 25) train acc: 0.898000; val_acc: 0.273000\n",
      "(Epoch 15 / 25) train acc: 0.936000; val_acc: 0.289000\n",
      "(Epoch 16 / 25) train acc: 0.946000; val_acc: 0.289000\n",
      "(Epoch 17 / 25) train acc: 0.942000; val_acc: 0.292000\n",
      "(Epoch 18 / 25) train acc: 0.968000; val_acc: 0.298000\n",
      "(Epoch 19 / 25) train acc: 0.974000; val_acc: 0.305000\n",
      "(Epoch 20 / 25) train acc: 0.972000; val_acc: 0.295000\n",
      "(Iteration 101 / 125) loss: 0.149532\n",
      "(Epoch 21 / 25) train acc: 0.972000; val_acc: 0.305000\n",
      "(Epoch 22 / 25) train acc: 0.964000; val_acc: 0.307000\n",
      "(Epoch 23 / 25) train acc: 0.976000; val_acc: 0.281000\n",
      "(Epoch 24 / 25) train acc: 0.978000; val_acc: 0.297000\n",
      "(Epoch 25 / 25) train acc: 0.986000; val_acc: 0.295000\n",
      "0.75\n",
      "(Iteration 1 / 125) loss: 10.766073\n",
      "(Epoch 0 / 25) train acc: 0.228000; val_acc: 0.179000\n",
      "(Epoch 1 / 25) train acc: 0.278000; val_acc: 0.191000\n",
      "(Epoch 2 / 25) train acc: 0.346000; val_acc: 0.233000\n",
      "(Epoch 3 / 25) train acc: 0.384000; val_acc: 0.225000\n",
      "(Epoch 4 / 25) train acc: 0.440000; val_acc: 0.240000\n",
      "(Epoch 5 / 25) train acc: 0.528000; val_acc: 0.272000\n",
      "(Epoch 6 / 25) train acc: 0.630000; val_acc: 0.259000\n",
      "(Epoch 7 / 25) train acc: 0.688000; val_acc: 0.284000\n",
      "(Epoch 8 / 25) train acc: 0.740000; val_acc: 0.283000\n",
      "(Epoch 9 / 25) train acc: 0.830000; val_acc: 0.277000\n",
      "(Epoch 10 / 25) train acc: 0.808000; val_acc: 0.261000\n",
      "(Epoch 11 / 25) train acc: 0.866000; val_acc: 0.281000\n",
      "(Epoch 12 / 25) train acc: 0.900000; val_acc: 0.285000\n",
      "(Epoch 13 / 25) train acc: 0.910000; val_acc: 0.297000\n",
      "(Epoch 14 / 25) train acc: 0.914000; val_acc: 0.290000\n",
      "(Epoch 15 / 25) train acc: 0.910000; val_acc: 0.268000\n",
      "(Epoch 16 / 25) train acc: 0.934000; val_acc: 0.288000\n",
      "(Epoch 17 / 25) train acc: 0.932000; val_acc: 0.269000\n",
      "(Epoch 18 / 25) train acc: 0.930000; val_acc: 0.305000\n",
      "(Epoch 19 / 25) train acc: 0.944000; val_acc: 0.288000\n",
      "(Epoch 20 / 25) train acc: 0.968000; val_acc: 0.292000\n",
      "(Iteration 101 / 125) loss: 0.155204\n",
      "(Epoch 21 / 25) train acc: 0.972000; val_acc: 0.280000\n",
      "(Epoch 22 / 25) train acc: 0.988000; val_acc: 0.294000\n",
      "(Epoch 23 / 25) train acc: 0.990000; val_acc: 0.298000\n",
      "(Epoch 24 / 25) train acc: 0.988000; val_acc: 0.296000\n",
      "(Epoch 25 / 25) train acc: 0.994000; val_acc: 0.304000\n",
      "0.5\n",
      "(Iteration 1 / 125) loss: 10.290508\n",
      "(Epoch 0 / 25) train acc: 0.254000; val_acc: 0.144000\n",
      "(Epoch 1 / 25) train acc: 0.220000; val_acc: 0.165000\n",
      "(Epoch 2 / 25) train acc: 0.314000; val_acc: 0.229000\n",
      "(Epoch 3 / 25) train acc: 0.456000; val_acc: 0.274000\n",
      "(Epoch 4 / 25) train acc: 0.552000; val_acc: 0.302000\n",
      "(Epoch 5 / 25) train acc: 0.608000; val_acc: 0.307000\n",
      "(Epoch 6 / 25) train acc: 0.624000; val_acc: 0.276000\n",
      "(Epoch 7 / 25) train acc: 0.690000; val_acc: 0.314000\n",
      "(Epoch 8 / 25) train acc: 0.704000; val_acc: 0.268000\n",
      "(Epoch 9 / 25) train acc: 0.782000; val_acc: 0.310000\n",
      "(Epoch 10 / 25) train acc: 0.820000; val_acc: 0.302000\n",
      "(Epoch 11 / 25) train acc: 0.872000; val_acc: 0.274000\n",
      "(Epoch 12 / 25) train acc: 0.918000; val_acc: 0.281000\n",
      "(Epoch 13 / 25) train acc: 0.924000; val_acc: 0.303000\n",
      "(Epoch 14 / 25) train acc: 0.942000; val_acc: 0.299000\n",
      "(Epoch 15 / 25) train acc: 0.918000; val_acc: 0.289000\n",
      "(Epoch 16 / 25) train acc: 0.948000; val_acc: 0.301000\n",
      "(Epoch 17 / 25) train acc: 0.962000; val_acc: 0.287000\n",
      "(Epoch 18 / 25) train acc: 0.956000; val_acc: 0.293000\n",
      "(Epoch 19 / 25) train acc: 0.950000; val_acc: 0.283000\n",
      "(Epoch 20 / 25) train acc: 0.980000; val_acc: 0.284000\n",
      "(Iteration 101 / 125) loss: 0.599464\n",
      "(Epoch 21 / 25) train acc: 0.968000; val_acc: 0.297000\n",
      "(Epoch 22 / 25) train acc: 0.970000; val_acc: 0.297000\n",
      "(Epoch 23 / 25) train acc: 0.982000; val_acc: 0.304000\n",
      "(Epoch 24 / 25) train acc: 0.994000; val_acc: 0.304000\n",
      "(Epoch 25 / 25) train acc: 0.992000; val_acc: 0.306000\n",
      "0.25\n",
      "(Iteration 1 / 125) loss: 8.286989\n",
      "(Epoch 0 / 25) train acc: 0.192000; val_acc: 0.160000\n",
      "(Epoch 1 / 25) train acc: 0.272000; val_acc: 0.201000\n",
      "(Epoch 2 / 25) train acc: 0.360000; val_acc: 0.203000\n",
      "(Epoch 3 / 25) train acc: 0.486000; val_acc: 0.249000\n",
      "(Epoch 4 / 25) train acc: 0.540000; val_acc: 0.263000\n",
      "(Epoch 5 / 25) train acc: 0.558000; val_acc: 0.260000\n",
      "(Epoch 6 / 25) train acc: 0.606000; val_acc: 0.243000\n",
      "(Epoch 7 / 25) train acc: 0.622000; val_acc: 0.233000\n",
      "(Epoch 8 / 25) train acc: 0.712000; val_acc: 0.272000\n",
      "(Epoch 9 / 25) train acc: 0.770000; val_acc: 0.270000\n",
      "(Epoch 10 / 25) train acc: 0.784000; val_acc: 0.288000\n",
      "(Epoch 11 / 25) train acc: 0.856000; val_acc: 0.263000\n",
      "(Epoch 12 / 25) train acc: 0.922000; val_acc: 0.295000\n",
      "(Epoch 13 / 25) train acc: 0.892000; val_acc: 0.278000\n",
      "(Epoch 14 / 25) train acc: 0.878000; val_acc: 0.293000\n",
      "(Epoch 15 / 25) train acc: 0.926000; val_acc: 0.284000\n",
      "(Epoch 16 / 25) train acc: 0.934000; val_acc: 0.304000\n",
      "(Epoch 17 / 25) train acc: 0.940000; val_acc: 0.301000\n",
      "(Epoch 18 / 25) train acc: 0.958000; val_acc: 0.301000\n",
      "(Epoch 19 / 25) train acc: 0.982000; val_acc: 0.293000\n",
      "(Epoch 20 / 25) train acc: 0.976000; val_acc: 0.287000\n",
      "(Iteration 101 / 125) loss: 1.150880\n",
      "(Epoch 21 / 25) train acc: 0.970000; val_acc: 0.300000\n",
      "(Epoch 22 / 25) train acc: 0.992000; val_acc: 0.299000\n",
      "(Epoch 23 / 25) train acc: 0.974000; val_acc: 0.298000\n",
      "(Epoch 24 / 25) train acc: 0.988000; val_acc: 0.311000\n",
      "(Epoch 25 / 25) train acc: 0.974000; val_acc: 0.314000\n",
      "0.1\n",
      "(Iteration 1 / 125) loss: 7.980158\n",
      "(Epoch 0 / 25) train acc: 0.226000; val_acc: 0.176000\n",
      "(Epoch 1 / 25) train acc: 0.226000; val_acc: 0.155000\n",
      "(Epoch 2 / 25) train acc: 0.368000; val_acc: 0.224000\n",
      "(Epoch 3 / 25) train acc: 0.458000; val_acc: 0.246000\n",
      "(Epoch 4 / 25) train acc: 0.496000; val_acc: 0.256000\n",
      "(Epoch 5 / 25) train acc: 0.554000; val_acc: 0.242000\n",
      "(Epoch 6 / 25) train acc: 0.666000; val_acc: 0.274000\n",
      "(Epoch 7 / 25) train acc: 0.696000; val_acc: 0.289000\n",
      "(Epoch 8 / 25) train acc: 0.712000; val_acc: 0.270000\n",
      "(Epoch 9 / 25) train acc: 0.752000; val_acc: 0.265000\n",
      "(Epoch 10 / 25) train acc: 0.840000; val_acc: 0.275000\n",
      "(Epoch 11 / 25) train acc: 0.852000; val_acc: 0.253000\n",
      "(Epoch 12 / 25) train acc: 0.914000; val_acc: 0.272000\n"
     ]
    },
    {
     "name": "stdout",
     "output_type": "stream",
     "text": [
      "(Epoch 13 / 25) train acc: 0.932000; val_acc: 0.297000\n",
      "(Epoch 14 / 25) train acc: 0.920000; val_acc: 0.297000\n",
      "(Epoch 15 / 25) train acc: 0.956000; val_acc: 0.309000\n",
      "(Epoch 16 / 25) train acc: 0.910000; val_acc: 0.306000\n",
      "(Epoch 17 / 25) train acc: 0.964000; val_acc: 0.303000\n",
      "(Epoch 18 / 25) train acc: 0.956000; val_acc: 0.296000\n",
      "(Epoch 19 / 25) train acc: 0.966000; val_acc: 0.296000\n",
      "(Epoch 20 / 25) train acc: 0.982000; val_acc: 0.293000\n",
      "(Iteration 101 / 125) loss: 0.211149\n",
      "(Epoch 21 / 25) train acc: 0.986000; val_acc: 0.304000\n",
      "(Epoch 22 / 25) train acc: 0.980000; val_acc: 0.304000\n",
      "(Epoch 23 / 25) train acc: 0.976000; val_acc: 0.303000\n",
      "(Epoch 24 / 25) train acc: 0.996000; val_acc: 0.305000\n",
      "(Epoch 25 / 25) train acc: 0.998000; val_acc: 0.307000\n",
      "0.01\n",
      "(Iteration 1 / 125) loss: 9.388144\n",
      "(Epoch 0 / 25) train acc: 0.246000; val_acc: 0.211000\n",
      "(Epoch 1 / 25) train acc: 0.234000; val_acc: 0.163000\n",
      "(Epoch 2 / 25) train acc: 0.386000; val_acc: 0.224000\n",
      "(Epoch 3 / 25) train acc: 0.456000; val_acc: 0.290000\n",
      "(Epoch 4 / 25) train acc: 0.488000; val_acc: 0.257000\n",
      "(Epoch 5 / 25) train acc: 0.530000; val_acc: 0.257000\n",
      "(Epoch 6 / 25) train acc: 0.608000; val_acc: 0.263000\n",
      "(Epoch 7 / 25) train acc: 0.734000; val_acc: 0.272000\n",
      "(Epoch 8 / 25) train acc: 0.720000; val_acc: 0.282000\n",
      "(Epoch 9 / 25) train acc: 0.782000; val_acc: 0.260000\n",
      "(Epoch 10 / 25) train acc: 0.798000; val_acc: 0.266000\n",
      "(Epoch 11 / 25) train acc: 0.826000; val_acc: 0.234000\n",
      "(Epoch 12 / 25) train acc: 0.900000; val_acc: 0.293000\n",
      "(Epoch 13 / 25) train acc: 0.872000; val_acc: 0.285000\n",
      "(Epoch 14 / 25) train acc: 0.910000; val_acc: 0.290000\n",
      "(Epoch 15 / 25) train acc: 0.896000; val_acc: 0.302000\n",
      "(Epoch 16 / 25) train acc: 0.940000; val_acc: 0.285000\n",
      "(Epoch 17 / 25) train acc: 0.940000; val_acc: 0.313000\n",
      "(Epoch 18 / 25) train acc: 0.958000; val_acc: 0.301000\n",
      "(Epoch 19 / 25) train acc: 0.968000; val_acc: 0.282000\n",
      "(Epoch 20 / 25) train acc: 0.994000; val_acc: 0.292000\n",
      "(Iteration 101 / 125) loss: 0.168024\n",
      "(Epoch 21 / 25) train acc: 0.986000; val_acc: 0.305000\n",
      "(Epoch 22 / 25) train acc: 0.984000; val_acc: 0.305000\n",
      "(Epoch 23 / 25) train acc: 0.994000; val_acc: 0.291000\n",
      "(Epoch 24 / 25) train acc: 0.994000; val_acc: 0.280000\n",
      "(Epoch 25 / 25) train acc: 0.992000; val_acc: 0.281000\n"
     ]
    }
   ],
   "source": [
    "# Train two identical nets, one with dropout and one without\n",
    "np.random.seed(231)\n",
    "num_train = 500\n",
    "small_data = {\n",
    "  'X_train': data['X_train'][:num_train],\n",
    "  'y_train': data['y_train'][:num_train],\n",
    "  'X_val': data['X_val'],\n",
    "  'y_val': data['y_val'],\n",
    "}\n",
    "\n",
    "solvers = {}\n",
    "dropout_choices = [1, 0.95, 0.75, 0.5, 0.25, 0.1, 0.01]\n",
    "for dropout in dropout_choices:\n",
    "  model = FullyConnectedNet([500], dropout=dropout)\n",
    "  print(dropout)\n",
    "\n",
    "  solver = Solver(model, small_data,\n",
    "                  num_epochs=25, batch_size=100,\n",
    "                  update_rule='adam',\n",
    "                  optim_config={\n",
    "                    'learning_rate': 5e-4,\n",
    "                  },\n",
    "                  verbose=True, print_every=100)\n",
    "  solver.train()\n",
    "  solvers[dropout] = solver"
   ]
  },
  {
   "cell_type": "code",
   "execution_count": 40,
   "metadata": {},
   "outputs": [
    {
     "data": {
      "image/png": "[encoded data removed]",
      "text/plain": [
       "<matplotlib.figure.Figure at 0x7f0516797048>"
      ]
     },
     "metadata": {},
     "output_type": "display_data"
    }
   ],
   "source": [
    "# Plot train and validation accuracies of the two models\n",
    "\n",
    "train_accs = []\n",
    "val_accs = []\n",
    "for dropout in dropout_choices:\n",
    "  solver = solvers[dropout]\n",
    "  train_accs.append(solver.train_acc_history[-1])\n",
    "  val_accs.append(solver.val_acc_history[-1])\n",
    "\n",
    "plt.subplot(3, 1, 1)\n",
    "for dropout in dropout_choices:\n",
    "  plt.plot(solvers[dropout].train_acc_history, 'o', label='%.2f dropout' % dropout)\n",
    "plt.title('Train accuracy')\n",
    "plt.xlabel('Epoch')\n",
    "plt.ylabel('Accuracy')\n",
    "plt.legend(ncol=2, loc='lower right')\n",
    "  \n",
    "plt.subplot(3, 1, 2)\n",
    "for dropout in dropout_choices:\n",
    "  plt.plot(solvers[dropout].val_acc_history, 'o', label='%.2f dropout' % dropout)\n",
    "plt.title('Val accuracy')\n",
    "plt.xlabel('Epoch')\n",
    "plt.ylabel('Accuracy')\n",
    "plt.legend(ncol=2, loc='lower right')\n",
    "\n",
    "plt.gcf().set_size_inches(15, 15)\n",
    "plt.show()"
   ]
  },
  {
   "cell_type": "markdown",
   "metadata": {},
   "source": [
    "## Inline Question 2:\n",
    "Compare the validation and training accuracies with and without dropout -- what do your results suggest about dropout as a regularizer?"
   ]
  },
  {
   "cell_type": "markdown",
   "metadata": {},
   "source": [
    "## Answer:\n",
    "Dropout could prevent model from overfitting which reduce the gap between training accuracy and val accuracy, however if we use extremely high dropout rate, it would make the model less fit(see 0.01 dropout upon)."
   ]
  },
  {
   "cell_type": "markdown",
   "metadata": {},
   "source": [
    "## Inline Question 3:\n",
    "Suppose we are training a deep fully-connected network for image classification, with dropout after hidden layers (parameterized by keep probability p). How should we modify p, if at all, if we decide to decrease the size of the hidden layers (that is, the number of nodes in each layer)?"
   ]
  },
  {
   "cell_type": "markdown",
   "metadata": {},
   "source": [
    "## Answer:\n",
    "If we decide to decrease the size of the hidden layer, we should decrease keep probability p because decrease the size of hidden layers is equal to decrease the keep probability p"
   ]
  },
  {
   "cell_type": "code",
   "execution_count": null,
   "metadata": {
    "collapsed": true
   },
   "outputs": [],
   "source": []
  }
 ],
 "metadata": {
  "kernelspec": {
   "display_name": "Python 3",
   "language": "python",
   "name": "python3"
  },
  "language_info": {
   "codemirror_mode": {
    "name": "ipython",
    "version": 3
   },
   "file_extension": ".py",
   "mimetype": "text/x-python",
   "name": "python",
   "nbconvert_exporter": "python",
   "pygments_lexer": "ipython3",
   "version": "3.6.4"
  }
 },
 "nbformat": 4,
 "nbformat_minor": 2
}
